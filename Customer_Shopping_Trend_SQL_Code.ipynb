{
  "nbformat": 4,
  "nbformat_minor": 0,
  "metadata": {
    "colab": {
      "provenance": [],
      "authorship_tag": "ABX9TyMQQsWsfCUyHjJf2DBNfNtj",
      "include_colab_link": true
    },
    "kernelspec": {
      "name": "python3",
      "display_name": "Python 3"
    },
    "language_info": {
      "name": "python"
    }
  },
  "cells": [
    {
      "cell_type": "markdown",
      "metadata": {
        "id": "view-in-github",
        "colab_type": "text"
      },
      "source": [
        "<a href=\"https://colab.research.google.com/github/VyonaMukhwana/Customer-Shopping-Trend-Dashboard/blob/main/Customer_Shopping_Trend_SQL_Code.ipynb\" target=\"_parent\"><img src=\"https://colab.research.google.com/assets/colab-badge.svg\" alt=\"Open In Colab\"/></a>"
      ]
    },
    {
      "cell_type": "code",
      "execution_count": null,
      "metadata": {
        "id": "ibMRwtIet1YE"
      },
      "outputs": [],
      "source": [
        "# -- What Age Group do we mostly serve\n",
        "\n",
        "SELECT\n",
        "\n",
        "\tCase\n",
        "     when Age between 18 and 31 then '18-31'\n",
        "     when Age between 32 and 45 then '32-45'\n",
        "     when Age between 46 and 59 then '46-59'\n",
        "     when Age between 60 and 70 then '60-70'\n",
        "\tend as age_groups,\n",
        "    count(`Customer ID`) as client_count\n",
        "\n",
        "\n",
        "FROM retail_data.shopping_trends_updated\n",
        "Group by 1\n",
        "Order by 2 desc;\n",
        "\n",
        "# -- What is the most and least popular category\n",
        "\n",
        "SELECT\n",
        "Category,\n",
        "count(`Customer ID`) as client_count\n",
        "\n",
        "FROM retail_data.shopping_trends_updated\n",
        "Group By 1\n",
        "Order by 2\n",
        ";\n",
        "\n",
        "# -- Which season has the most purchases\n",
        "\n",
        "SELECT\n",
        "\n",
        "Season,\n",
        "count(`Customer ID`) as purchase_count\n",
        "\n",
        "FROM retail_data.shopping_trends_updated\n",
        "Group by 1\n",
        "Order by 2 desc\n",
        ";\n",
        "\n",
        "# Most popular payment method\n",
        "\n",
        "SELECT\n",
        "\n",
        "\t`Payment Method`,\n",
        "    count(`Customer ID`) as purchase_count\n",
        "\n",
        "FROM retail_data.shopping_trends_updated\n",
        "Group by 1\n",
        "Order by 2 Desc;\n",
        "\n",
        "# Most popular shipping type\n",
        "\n",
        "SELECT\n",
        "\n",
        "\t`Shipping Type`,\n",
        "    count(`Customer ID`) as purchase_count\n",
        "\n",
        "FROM retail_data.shopping_trends_updated\n",
        "group by 1\n",
        "order by 2 desc;\n",
        "\n",
        "# -- What is the most popular age group served?\n",
        "# -- Find the most common payment method used by the most popular age group served.\n",
        "\n",
        "SELECT\n",
        "\n",
        "Case\n",
        "     when Age between 18 and 31 then '18-31'\n",
        "     when Age between 32 and 45 then '32-45'\n",
        "     when Age between 46 and 59 then '46-59'\n",
        "     when Age between 60 and 70 then '60-70'\n",
        "\tend as age_groups,\n",
        "`Payment Method`,\n",
        "count(`Customer ID`) as no_clients\n",
        "\n",
        "FROM retail_data.shopping_trends_updated\n",
        "group by 1,2\n",
        "Having age_groups = '46-59'\n",
        "Order by 3 desc;"
      ]
    }
  ]
}